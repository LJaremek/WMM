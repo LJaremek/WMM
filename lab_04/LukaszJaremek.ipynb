{
 "cells": [
  {
   "cell_type": "markdown",
   "metadata": {},
   "source": [
    "# Wstęp do Multimediów\n",
    "### Laboratorium 4\n",
    "Łukasz Jaremek\n",
    "\n",
    "310710"
   ]
  },
  {
   "cell_type": "markdown",
   "metadata": {},
   "source": [
    "---"
   ]
  },
  {
   "cell_type": "markdown",
   "metadata": {},
   "source": [
    "### Transmisja danych multimedialnych z wykorzystaniem protokołu HTTPS"
   ]
  },
  {
   "cell_type": "markdown",
   "metadata": {},
   "source": [
    "Pobieranie filmu\n",
    "\n",
    "![](photos/photo_01.png)\n",
    "\n",
    "Cały film waży 6.5 MB, pobieranie zajęło 10.07s, co daje średnią przepustowość na poziomie ~0.65 MB/s.\n",
    "\n",
    "Maksymalna przepustowość: 81.9 kB / 25 ms = 3.27 kB/ms (pierwszy odcinek)\n",
    "\n",
    "Minimalna przepustowość: 6400 kB / 9860 ms = 0.65 kB/ms (trzeci odcinek)"
   ]
  },
  {
   "cell_type": "markdown",
   "metadata": {},
   "source": [
    "Jak widać, do pobierania użyto komunikatu GET\n",
    "\n",
    "![](photos/photo_02.png)\n"
   ]
  },
  {
   "cell_type": "markdown",
   "metadata": {},
   "source": [
    "Plik HTML:\n",
    "\n",
    "![](photos/photo_03.png)\n",
    "\n",
    "Do odtwarzania multimediów (filmu) wykorzystano element **video**, który pozwala na odtwarzanie formatu **.mp4**, ale również webm oraz ogg."
   ]
  },
  {
   "cell_type": "markdown",
   "metadata": {},
   "source": [
    "###  Adaptacyjne strumieniowanie danych multimedialnych z wykorzystaniem standardu MPEG-DASH\n"
   ]
  },
  {
   "cell_type": "markdown",
   "metadata": {},
   "source": [
    "Dane przekazywane pakietami:\n",
    "\n",
    "![](photos/photo_04.png)\n",
    "\n",
    "Można zauważyć, że przesłanych elementów jest o wiele więcej, rozmiar przesłanych danych wzrósł prawie dwukrotnie (z 6.5 MB na 11.4 MB).\n",
    "\n",
    "Przesłane 11.4 MB danych w czasie 22.07 sekund daje średnią przepustowość 0.5 MB / s.\n",
    "\n",
    "![](photos/photo_05.png)\n",
    "\n",
    "Audio jest przesyłane jedno dwukanałową reprezentacją, natomiast wideo jest przesyłane trzema reprezentacjami."
   ]
  },
  {
   "cell_type": "markdown",
   "metadata": {},
   "source": [
    "Dzięki MPEG-DASH transmisja jest dostosowywana do naszej sieci - im lepsza sieć tym lepszy przesyłany obraz. Dzięki temu możemy oglądać wideo bez przerw w dostawie obrazu/dźwięku. HTTP nie ma takiej możliwości, przy słabej przepływności wideo się zawiesza, lecz dzięki temu możemy je obejrzeć w oryginalnej jakości."
   ]
  }
 ],
 "metadata": {
  "interpreter": {
   "hash": "ac59ebe37160ed0dfa835113d9b8498d9f09ceb179beaac4002f036b9467c963"
  },
  "kernelspec": {
   "display_name": "Python 3.9.9 64-bit",
   "language": "python",
   "name": "python3"
  },
  "language_info": {
   "codemirror_mode": {
    "name": "ipython",
    "version": 3
   },
   "file_extension": ".py",
   "mimetype": "text/x-python",
   "name": "python",
   "nbconvert_exporter": "python",
   "pygments_lexer": "ipython3",
   "version": "3.9.9"
  },
  "orig_nbformat": 4
 },
 "nbformat": 4,
 "nbformat_minor": 2
}
